{
 "cells": [
  {
   "cell_type": "code",
   "execution_count": 3,
   "id": "c595cfab",
   "metadata": {},
   "outputs": [],
   "source": [
    "import pandas as pd\n",
    "import requests\n",
    "import os\n",
    "import re"
   ]
  },
  {
   "cell_type": "code",
   "execution_count": 4,
   "id": "e408a177",
   "metadata": {},
   "outputs": [],
   "source": [
    "def clear():\n",
    "    # for windows\n",
    "    if os.name == 'nt':\n",
    "        _ = os.system('cls')\n",
    "    \n",
    "    else:\n",
    "        _ = os.system('clear')"
   ]
  },
  {
   "cell_type": "code",
   "execution_count": 5,
   "id": "2694bb15",
   "metadata": {},
   "outputs": [],
   "source": [
    "def get_facility_csv():\n",
    "    while True:\n",
    "        facility_id = input('Enter facility ID: ')\n",
    "        if not re.match(\"^(FL.\\d{6})\",facility_id):\n",
    "            print(\"Error please try again. Facility ID should look like FL1234567\")\n",
    "        else:\n",
    "            break\n",
    "    csv_url = 'https://prodenv.dep.state.fl.us/DepNexus/public/electronic-documents/{}/export?wildCardMatch=false&page=1'.format(facility_id)\n",
    "\n",
    "    csv_download = requests.get(csv_url)\n",
    "    open(facility_id + ' Files.csv','wb').write(csv_download.content)\n",
    "    file = facility_id + ' Files.csv'\n",
    "\n",
    "    return file"
   ]
  },
  {
   "cell_type": "code",
   "execution_count": 6,
   "id": "b10a8f42",
   "metadata": {},
   "outputs": [],
   "source": [
    "def grab_Permits():\n",
    "    Permits = df[df['DOCUMENT TYPE'] == 'PERMIT - FINAL']\n",
    "    Permits = Permits.reset_index()\n",
    "    \n",
    "    for index,row in df.iterrows():\n",
    "        while index <= 50:\n",
    "            if 'permit' in row['SUBJECT'].lower():\n",
    "                print('Downloaded {} to folder.'.format(row['SUBJECT']))\n",
    "                response = requests.get(row['FILE PATH'])\n",
    "                open(row['DOCUMENT DATE'] + '.pdf','wb').write(response.content)"
   ]
  },
  {
   "cell_type": "code",
   "execution_count": 7,
   "id": "24abb90c",
   "metadata": {},
   "outputs": [],
   "source": [
    "def grab_DMRs():\n",
    "    DMRs = df[df['DOCUMENT TYPE'] == 'DISCHARGE MONITORING REPORTS RELATED']\n",
    "    DMRs = DMRs.reset_index()\n",
    "    DMRs['DOCUMENT DATE'] = pd.to_datetime(DMRs['DOCUMENT DATE']).dt.date\n",
    "\n",
    "    for index,row in DMRs.iterrows():\n",
    "        while index <= 50:\n",
    "            #print (index)\n",
    "            #print(row['SUBJECT'])\n",
    "            #print(row['FILE PATH'])\n",
    "            if 'PART B' in row['SUBJECT']:\n",
    "                print('Downloaded {} to folder.'.format(row['SUBJECT']))\n",
    "                response = requests.get(row['FILE PATH'])\n",
    "                open(str(row['DOCUMENT DATE']) + '_' + row['SUBJECT'] + '.pdf','wb').write(response.content)"
   ]
  },
  {
   "cell_type": "code",
   "execution_count": 15,
   "id": "6053b072",
   "metadata": {},
   "outputs": [
    {
     "name": "stdout",
     "output_type": "stream",
     "text": [
      "Welcome to the Oculus Permit Grabber\n",
      "This tool will help you download permits and DMRs for WWTF in Florida\n",
      "\u001b[H\u001b[2J  <!DOCTYPE HTML PUBLIC \"-//W3C//DTD HTML 4.01 Transitional//EN\" \"http://www.w3.org/TR/html4/loose.dtd\">\n",
      "0                                   <html lang=\"en\">                                                    \n",
      "1                                             <head>                                                    \n",
      "2                          <!-- CMS Assets Files -->                                                    \n",
      "3                        <!-- Assets jQuery core -->                                                    \n",
      "4                     <script type=\"text/javascript\"                                                    \n",
      "\u001b[H\u001b[2J"
     ]
    }
   ],
   "source": [
    "print(\"Welcome to the Oculus Permit Grabber\")\n",
    "print(\"This tool will help you download permits and DMRs for WWTF in Florida\")\n",
    "input(\"Press Enter to Continue\")\n",
    "clear()\n",
    "\n",
    "while True:\n",
    "        file = get_facility_csv()\n",
    "        df = pd.read_csv(file,on_bad_lines='skip')\n",
    "        print(df.head())\n",
    "        check = input(\"Does this look like the right WWTF? Enter Y or N\")   \n",
    "        if check.lower() == 'y':\n",
    "            input(\"Perfect! Let's proceed. Press Enter to continue\")\n",
    "            clear()\n",
    "            break\n",
    "        elif check.lower() == 'n':\n",
    "            print(\"Let's try that again.\")\n",
    "            clear()\n",
    "            os.remove(file)\n",
    "            continue\n",
    "\n"
   ]
  },
  {
   "cell_type": "code",
   "execution_count": null,
   "id": "ca75df31",
   "metadata": {},
   "outputs": [],
   "source": [
    "grab_Permits()\n",
    "grab_DMRs()"
   ]
  },
  {
   "cell_type": "code",
   "execution_count": null,
   "id": "4e3b4abb",
   "metadata": {},
   "outputs": [],
   "source": []
  }
 ],
 "metadata": {
  "kernelspec": {
   "display_name": "Python 3.9.12 ('base')",
   "language": "python",
   "name": "python3"
  },
  "language_info": {
   "codemirror_mode": {
    "name": "ipython",
    "version": 3
   },
   "file_extension": ".py",
   "mimetype": "text/x-python",
   "name": "python",
   "nbconvert_exporter": "python",
   "pygments_lexer": "ipython3",
   "version": "3.9.12"
  },
  "vscode": {
   "interpreter": {
    "hash": "39db174bdeaff32c1b313b84a38f709f1fd7c4372f2191c1f25924b6782ba43b"
   }
  }
 },
 "nbformat": 4,
 "nbformat_minor": 5
}
