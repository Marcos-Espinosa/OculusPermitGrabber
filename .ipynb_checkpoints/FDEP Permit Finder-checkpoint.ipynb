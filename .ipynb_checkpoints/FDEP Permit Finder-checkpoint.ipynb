{
 "cells": [
  {
   "cell_type": "code",
   "execution_count": 2,
   "id": "c595cfab",
   "metadata": {},
   "outputs": [],
   "source": [
    "import pandas as pd\n",
    "import requests\n",
    "import os"
   ]
  },
  {
   "cell_type": "code",
   "execution_count": 3,
   "id": "798d608d",
   "metadata": {},
   "outputs": [],
   "source": [
    "df = pd.read_csv('scb.csv')"
   ]
  },
  {
   "cell_type": "code",
   "execution_count": 4,
   "id": "328200c8",
   "metadata": {},
   "outputs": [],
   "source": [
    "Permits = df[df['DOCUMENT TYPE'] == 'PERMIT - FINAL']"
   ]
  },
  {
   "cell_type": "code",
   "execution_count": 5,
   "id": "ce6f8efb",
   "metadata": {},
   "outputs": [],
   "source": [
    "Permits = Permits.reset_index()"
   ]
  },
  {
   "cell_type": "code",
   "execution_count": 6,
   "id": "59bbc645",
   "metadata": {},
   "outputs": [
    {
     "name": "stdout",
     "output_type": "stream",
     "text": [
      "Downloaded CS52-0033689-391-DWC/CM-HD SUPPLY-PERMIT to folder.\n",
      "Downloaded CS52-0033689-392-DWCCL-72ND TERRACE AND 70TH AVENUE-PERMIT to folder.\n",
      "Downloaded 028-DW1/MR - MINOR REVISION to folder.\n",
      "Downloaded CS52-0033689-364-DWCCM-INDIAN ROCKS BEACH- IND PERMIT to folder.\n",
      "Downloaded CS52-0033689-362-DWCCL-WINTER'S END- INDIVIDUAL PERMIT to folder.\n",
      "Downloaded 027 DWF/MM PERMIT MODIFICATION to folder.\n"
     ]
    }
   ],
   "source": [
    "for index,row in Permits.iterrows():\n",
    "    #print(row['DOCUMENT DATE'])\n",
    "    #print(row['FILE PATH'])\n",
    "    if index <= 5:\n",
    "        print('Downloaded {} to folder.'.format(row['SUBJECT']))\n",
    "        response = requests.get(row['FILE PATH'])\n",
    "        open(row['DOCUMENT DATE'] + '.pdf','wb').write(response.content)"
   ]
  },
  {
   "cell_type": "code",
   "execution_count": 7,
   "id": "586c4382",
   "metadata": {},
   "outputs": [],
   "source": [
    "DMRs = df[df['DOCUMENT TYPE'] == 'DISCHARGE MONITORING REPORTS RELATED']"
   ]
  },
  {
   "cell_type": "code",
   "execution_count": 8,
   "id": "6746b15a",
   "metadata": {},
   "outputs": [],
   "source": [
    "DMRs = DMRs.reset_index()"
   ]
  },
  {
   "cell_type": "code",
   "execution_count": 10,
   "id": "8ba0c746",
   "metadata": {},
   "outputs": [],
   "source": [
    "DMRs['DOCUMENT DATE'] = pd.to_datetime(DMRs['DOCUMENT DATE']).dt.date"
   ]
  },
  {
   "cell_type": "code",
   "execution_count": 11,
   "id": "dfce413a",
   "metadata": {},
   "outputs": [
    {
     "name": "stdout",
     "output_type": "stream",
     "text": [
      "Downloaded DMR 2022 JUN MO PART B (697783) to folder.\n",
      "Downloaded DMR 2022 MAY MO PART B (696696) to folder.\n",
      "Downloaded DMR 2022 APR MO PART B (693014) to folder.\n",
      "Downloaded DMR 2022 MAR MO PART B (688946) to folder.\n",
      "Downloaded DMR 2022 FEB MO PART B (685586) to folder.\n",
      "Downloaded DMR 2022 JAN MO PART B (680058) to folder.\n",
      "Downloaded DMR 2021 DEC MO PART B (677322) to folder.\n",
      "Downloaded DMR 2021 NOV MO PART B (666856) to folder.\n",
      "Downloaded DMR 2021 OCT MO PART B (666855) to folder.\n",
      "Downloaded DMR 2021 SEP MO PART B (666854) to folder.\n",
      "Downloaded DMR 2021 AUG MO PART B (657459) to folder.\n",
      "Downloaded DMR 2021 JUL MO PART B (657458) to folder.\n",
      "Downloaded DMR 2021 JUN MO PART B (657457) to folder.\n"
     ]
    }
   ],
   "source": [
    "for index,row in DMRs.iterrows():\n",
    "    if index <= 50:\n",
    "        #print (index)\n",
    "        #print(row['SUBJECT'])\n",
    "        #print(row['FILE PATH'])\n",
    "        if 'PART B' in row['SUBJECT']:\n",
    "            print('Downloaded {} to folder.'.format(row['SUBJECT']))\n",
    "            response = requests.get(row['FILE PATH'])\n",
    "            open(str(row['DOCUMENT DATE']) + '_' + row['SUBJECT'] + '.pdf','wb').write(response.content)"
   ]
  },
  {
   "cell_type": "code",
   "execution_count": null,
   "id": "ca75df31",
   "metadata": {},
   "outputs": [],
   "source": []
  }
 ],
 "metadata": {
  "kernelspec": {
   "display_name": "Python 3 (ipykernel)",
   "language": "python",
   "name": "python3"
  },
  "language_info": {
   "codemirror_mode": {
    "name": "ipython",
    "version": 3
   },
   "file_extension": ".py",
   "mimetype": "text/x-python",
   "name": "python",
   "nbconvert_exporter": "python",
   "pygments_lexer": "ipython3",
   "version": "3.9.12"
  }
 },
 "nbformat": 4,
 "nbformat_minor": 5
}
