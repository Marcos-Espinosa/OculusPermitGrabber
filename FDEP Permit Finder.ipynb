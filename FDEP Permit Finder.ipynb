{
 "cells": [
  {
   "cell_type": "code",
   "execution_count": 1,
   "id": "c595cfab",
   "metadata": {},
   "outputs": [],
   "source": [
    "import pandas as pd\n",
    "import requests\n",
    "import os"
   ]
  },
  {
   "cell_type": "code",
   "execution_count": 2,
   "id": "798d608d",
   "metadata": {},
   "outputs": [],
   "source": [
    "df = pd.read_csv('oldsmar.csv')"
   ]
  },
  {
   "cell_type": "code",
   "execution_count": 3,
   "id": "328200c8",
   "metadata": {},
   "outputs": [],
   "source": [
    "Permits = df[df['DOCUMENT TYPE'] == 'PERMIT - FINAL']"
   ]
  },
  {
   "cell_type": "code",
   "execution_count": 4,
   "id": "ce6f8efb",
   "metadata": {},
   "outputs": [],
   "source": [
    "Permits = Permits.reset_index()"
   ]
  },
  {
   "cell_type": "code",
   "execution_count": 11,
   "id": "59bbc645",
   "metadata": {},
   "outputs": [
    {
     "name": "stdout",
     "output_type": "stream",
     "text": [
      "Downloaded 0126379-104-DSGP02 - HARBOR PALMS INFRASTRUCTURE IMPROVEMENTS - PERMIT to folder.\n",
      "Downloaded 0126379-100-DSGP - PARTIAL CLEARANCE 10 - PERMIT to folder.\n",
      "Downloaded 0126379-102-DSGP/02 - OLDSMAR TRAIL PVI- NO.PERMIT.REQUIRED.BACTEES AND EMAIL to folder.\n",
      "Downloaded 0126379-100-DSGP02 - PARTIAL CLEARANCE 9 - PERMIT to folder.\n",
      "Downloaded 0126379-103-DSGP02-STROZ RESIDENCE-PUBLIC WATER MAIN EXTENSION- PERMIT to folder.\n",
      "Downloaded 0126379-102-DSGP/02 _ OLDSMAR TRAIL PHASE VI _ GENERAL PERMIT to folder.\n",
      "Downloaded 0126379-101-DSGP/02 - OLDSMAR MEDICAL AND COMMERCIAL CENTER- GENERAL PERMIT to folder.\n",
      "Downloaded 126379-100-DSGP/02 HARBOR PALMS INFRASTRUCTURE IMPROVEMENTS PERMIT CHECKLIST to folder.\n",
      "Downloaded 126379-100-DSGP/02 HARBOR PALMS INFRASTRUCTURE IMPROVEMENTS PERMIT to folder.\n",
      "Downloaded 126379-100-DSGP/02 HARBOR PALMS INFRASTRUCTURE IMPROVEMENTS PERMIT APPLICATION to folder.\n",
      "Downloaded 0126379-099-DSGP AUTO STYLESÂ&#128;&#147;PERMIT LETTER to folder.\n",
      "Downloaded 0126379-098-DS-C BAYSIDE TERRACE PHASES 1 & 2 PERMIT to folder.\n",
      "Downloaded 0126379-097 DOWNTOWN GALVANIZED WATER MAIN REPLACEMENT GENERAL PERMIT to folder.\n",
      "Downloaded 0126379-097 DOWNTOWN GALVANIZED WATER MAIN REPLACEMENT GENERAL PERMIT RESPONSE TO CLARIFICATION CORRECTION NEEDED to folder.\n",
      "Downloaded 0126379-097 DOWNTOWN GALVANIZED WATER MAIN REPLACEMENT GENERAL PERMIT CLARIFICATION CORRECTION NEEDED to folder.\n",
      "Downloaded 0126379-097 DOWNTOWN GALVANIZED WATER MAIN REPLACEMENT GENERAL PERMIT CHECKLIST to folder.\n",
      "Downloaded 0126379-097 DOWNTOWN GALVANIZED WATER MAIN REPLACEMENT GENERAL PERMIT APPLICATION to folder.\n",
      "Downloaded 126379-096-DSGP/02BECKLUND TOWNHOMES PERMIT to folder.\n",
      "Downloaded 126379-096 BECKLUND TOWNHOMES GENERAL PERMIT RESPONSE TO REQUEST FOR CORRECTION AND CLARIFICATION to folder.\n",
      "Downloaded 126379-096 BECKLUND TOWNHOMES GENERAL PERMIT CLARIFICATION REQUEST EMAIL to folder.\n",
      "Downloaded 126379-096 BECKLUND TOWNHOMES GENERAL PERMIT CHECKLIST to folder.\n",
      "Downloaded 126379-096 BECKLUND TOWNHOMES GENERAL PERMIT BAC-T COURTESY EMAIL to folder.\n",
      "Downloaded 126379-096 BECKLUND TOWNHOMES GENERAL PERMIT APPLICATION to folder.\n",
      "Downloaded 0126379-094-DSGP/02 WOODLANDS SQUARE SITE MODIFICATIONS PERMIT to folder.\n",
      "Downloaded 0126379-094-DSGP/02 TUSCANY WOODS-SOUTH PARCEL, GENERAL PERMIT to folder.\n",
      "Downloaded 0126379-088-DS/C CITY OF OLDSMAR RAW WATER AND BYPRODUCT PIPELINES FINAL CLEARANCE AND PERMITTING DOCUMENTS to folder.\n",
      "Downloaded WATER MAIN REPLACEMENT - ST. PETERSBURG DRIVE GENERAL PERMIT to folder.\n",
      "Downloaded WATER MAIN REPLACEMENT - ST. PETERSBURG DRIVE. PERMIT APPLICATION to folder.\n",
      "Downloaded CITY OF OLDSMAR - ALTERNATIVE WATER SUPPLY PROJECT 0126379-089-WC/07 PERMIT to folder.\n",
      "Downloaded 0126379-076-DSGP-PROGRESSIVE-PERMIT APPLICATION to folder.\n",
      "Downloaded 126379-82 DSGP PERMIT to folder.\n",
      "Downloaded 0126379-081-DSGP-BROOKER CREEK NORTH-LOT 1-PERMIT APPLICATION to folder.\n",
      "Downloaded 0126379-079-DSGP-ADAMS SUBDIVISION-PERMIT APPLICATION to folder.\n",
      "Downloaded 0126379-063-DS LOCKHEED MARTIN WATER SERVICE CONNECTION PERMIT DOCUMENTS to folder.\n",
      "Downloaded 0126379-077-DSGP-BECKLUND TOWNHOUSES-PERMIT APPLICATION to folder.\n",
      "Downloaded 0126379-074-DSGP BAY ARBOR PLACE PERMIT DOCUMENTS to folder.\n"
     ]
    }
   ],
   "source": [
    "for index,row in df.iterrows():\n",
    "    #print(row['DOCUMENT DATE'])\n",
    "    #print(row['FILE PATH'])\n",
    "    #if index <= 100:\n",
    "    if 'permit' in row['SUBJECT'].lower():\n",
    "        print('Downloaded {} to folder.'.format(row['SUBJECT']))\n",
    "        response = requests.get(row['FILE PATH'])\n",
    "        open(row['DOCUMENT DATE'] + '.pdf','wb').write(response.content)"
   ]
  },
  {
   "cell_type": "code",
   "execution_count": 7,
   "id": "586c4382",
   "metadata": {},
   "outputs": [],
   "source": [
    "DMRs = df[df['DOCUMENT TYPE'] == 'DISCHARGE MONITORING REPORTS RELATED']"
   ]
  },
  {
   "cell_type": "code",
   "execution_count": 8,
   "id": "6746b15a",
   "metadata": {},
   "outputs": [],
   "source": [
    "DMRs = DMRs.reset_index()"
   ]
  },
  {
   "cell_type": "code",
   "execution_count": 10,
   "id": "8ba0c746",
   "metadata": {},
   "outputs": [],
   "source": [
    "DMRs['DOCUMENT DATE'] = pd.to_datetime(DMRs['DOCUMENT DATE']).dt.date"
   ]
  },
  {
   "cell_type": "code",
   "execution_count": 11,
   "id": "dfce413a",
   "metadata": {},
   "outputs": [
    {
     "name": "stdout",
     "output_type": "stream",
     "text": [
      "Downloaded DMR 2022 JUN MO PART B (697783) to folder.\n",
      "Downloaded DMR 2022 MAY MO PART B (696696) to folder.\n",
      "Downloaded DMR 2022 APR MO PART B (693014) to folder.\n",
      "Downloaded DMR 2022 MAR MO PART B (688946) to folder.\n",
      "Downloaded DMR 2022 FEB MO PART B (685586) to folder.\n",
      "Downloaded DMR 2022 JAN MO PART B (680058) to folder.\n",
      "Downloaded DMR 2021 DEC MO PART B (677322) to folder.\n",
      "Downloaded DMR 2021 NOV MO PART B (666856) to folder.\n",
      "Downloaded DMR 2021 OCT MO PART B (666855) to folder.\n",
      "Downloaded DMR 2021 SEP MO PART B (666854) to folder.\n",
      "Downloaded DMR 2021 AUG MO PART B (657459) to folder.\n",
      "Downloaded DMR 2021 JUL MO PART B (657458) to folder.\n",
      "Downloaded DMR 2021 JUN MO PART B (657457) to folder.\n"
     ]
    }
   ],
   "source": [
    "for index,row in DMRs.iterrows():\n",
    "    if index <= 50:\n",
    "        #print (index)\n",
    "        #print(row['SUBJECT'])\n",
    "        #print(row['FILE PATH'])\n",
    "        if 'PART B' in row['SUBJECT']:\n",
    "            print('Downloaded {} to folder.'.format(row['SUBJECT']))\n",
    "            response = requests.get(row['FILE PATH'])\n",
    "            open(str(row['DOCUMENT DATE']) + '_' + row['SUBJECT'] + '.pdf','wb').write(response.content)"
   ]
  },
  {
   "cell_type": "code",
   "execution_count": null,
   "id": "ca75df31",
   "metadata": {},
   "outputs": [],
   "source": []
  }
 ],
 "metadata": {
  "kernelspec": {
   "display_name": "Python 3 (ipykernel)",
   "language": "python",
   "name": "python3"
  },
  "language_info": {
   "codemirror_mode": {
    "name": "ipython",
    "version": 3
   },
   "file_extension": ".py",
   "mimetype": "text/x-python",
   "name": "python",
   "nbconvert_exporter": "python",
   "pygments_lexer": "ipython3",
   "version": "3.9.12"
  }
 },
 "nbformat": 4,
 "nbformat_minor": 5
}
